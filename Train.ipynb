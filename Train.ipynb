{
 "cells": [
  {
   "cell_type": "code",
   "execution_count": 78,
   "metadata": {},
   "outputs": [],
   "source": [
    "from tensorflow import keras\n",
    "import pickle\n",
    "import numpy as np\n",
    "import pandas as pd"
   ]
  },
  {
   "cell_type": "code",
   "execution_count": 79,
   "metadata": {},
   "outputs": [],
   "source": [
    "def constructModel(convNumFilters=[32]*3, convFilterSize = [(3, 3)]*3, poolSize = [(2, 2)]*3, denseLayers = [128], dropRate = 0.2, inpShape=(128, 128, 1)):\n",
    "    mod = keras.Sequential()\n",
    "    mod.add(keras.Input(shape=inpShape))\n",
    "    \n",
    "    if not all(len(convNumFilters) == len(lst) for lst in [convFilterSize, poolSize]):\n",
    "        raise Exception('Ensure the sizes of convNumFilters, convFilterSize, and poolSize are equal!')\n",
    "        \n",
    "    for numF, filterS, poolS in zip(convNumFilters, convFilterSize, poolSize):\n",
    "        mod.add(keras.layers.Conv2D(numF, filterS, activation='relu'))\n",
    "        mod.add(keras.layers.MaxPool2D(pool_size=poolS))\n",
    "        mod.add(keras.layers.Dropout(dropRate))\n",
    "    \n",
    "    mod.add(keras.layers.Flatten())\n",
    "    \n",
    "    for denseLayer in denseLayers:\n",
    "        mod.add(keras.layers.Dense(denseLayer, activation='relu'))\n",
    "    \n",
    "    mod.add(keras.layers.Dense(10, activation='softmax'))\n",
    "    \n",
    "    return mod\n",
    "    "
   ]
  },
  {
   "cell_type": "code",
   "execution_count": 80,
   "metadata": {},
   "outputs": [],
   "source": [
    "def trainMod(mod, x, y, eps, saveMod=False, modName=None):\n",
    "    mod.compile(optimizer='adam', loss='categorical_crossentropy', metrics=['accuracy'])\n",
    "    mod.fit(x, y, epochs=eps)\n",
    "    \n",
    "    if saveMod and modName:\n",
    "        modjson = mod.to_json()\n",
    "        with open(\"mod_{}.json\".format(modName), \"w\") as jsonFile:\n",
    "            jsonFile.write(modjson)\n",
    "        mod.save_weights('mod_{}.h5'.format(modName))\n",
    "    "
   ]
  },
  {
   "cell_type": "code",
   "execution_count": 81,
   "metadata": {},
   "outputs": [],
   "source": [
    "dataset = 'handGestures'"
   ]
  },
  {
   "cell_type": "code",
   "execution_count": 83,
   "metadata": {},
   "outputs": [
    {
     "name": "stdout",
     "output_type": "stream",
     "text": [
      "Model: \"sequential_11\"\n",
      "_________________________________________________________________\n",
      "Layer (type)                 Output Shape              Param #   \n",
      "=================================================================\n",
      "conv2d_29 (Conv2D)           (None, 126, 126, 32)      320       \n",
      "_________________________________________________________________\n",
      "max_pooling2d_27 (MaxPooling (None, 63, 63, 32)        0         \n",
      "_________________________________________________________________\n",
      "dropout_27 (Dropout)         (None, 63, 63, 32)        0         \n",
      "_________________________________________________________________\n",
      "conv2d_30 (Conv2D)           (None, 61, 61, 32)        9248      \n",
      "_________________________________________________________________\n",
      "max_pooling2d_28 (MaxPooling (None, 30, 30, 32)        0         \n",
      "_________________________________________________________________\n",
      "dropout_28 (Dropout)         (None, 30, 30, 32)        0         \n",
      "_________________________________________________________________\n",
      "conv2d_31 (Conv2D)           (None, 28, 28, 32)        9248      \n",
      "_________________________________________________________________\n",
      "max_pooling2d_29 (MaxPooling (None, 14, 14, 32)        0         \n",
      "_________________________________________________________________\n",
      "dropout_29 (Dropout)         (None, 14, 14, 32)        0         \n",
      "_________________________________________________________________\n",
      "flatten_9 (Flatten)          (None, 6272)              0         \n",
      "_________________________________________________________________\n",
      "dense_18 (Dense)             (None, 128)               802944    \n",
      "_________________________________________________________________\n",
      "dense_19 (Dense)             (None, 10)                1290      \n",
      "=================================================================\n",
      "Total params: 823,050\n",
      "Trainable params: 823,050\n",
      "Non-trainable params: 0\n",
      "_________________________________________________________________\n",
      "Epoch 1/20\n",
      "123/123 [==============================] - 28s 226ms/step - loss: 13.4725 - accuracy: 0.2327\n",
      "Epoch 2/20\n",
      "123/123 [==============================] - 28s 226ms/step - loss: 0.6939 - accuracy: 0.7715\n",
      "Epoch 3/20\n",
      "123/123 [==============================] - 30s 242ms/step - loss: 0.2613 - accuracy: 0.9165\n",
      "Epoch 4/20\n",
      "123/123 [==============================] - 29s 235ms/step - loss: 0.1486 - accuracy: 0.9522\n",
      "Epoch 5/20\n",
      "123/123 [==============================] - 28s 229ms/step - loss: 0.0858 - accuracy: 0.9676\n",
      "Epoch 6/20\n",
      "123/123 [==============================] - 30s 242ms/step - loss: 0.0498 - accuracy: 0.9834\n",
      "Epoch 7/20\n",
      "123/123 [==============================] - 31s 249ms/step - loss: 0.0718 - accuracy: 0.9768\n",
      "Epoch 8/20\n",
      "123/123 [==============================] - 30s 248ms/step - loss: 0.0415 - accuracy: 0.9864\n",
      "Epoch 9/20\n",
      "123/123 [==============================] - 31s 248ms/step - loss: 0.0281 - accuracy: 0.9893\n",
      "Epoch 10/20\n",
      "123/123 [==============================] - 29s 239ms/step - loss: 0.0464 - accuracy: 0.9869\n",
      "Epoch 11/20\n",
      "123/123 [==============================] - 29s 239ms/step - loss: 0.0273 - accuracy: 0.9892\n",
      "Epoch 12/20\n",
      "123/123 [==============================] - 30s 240ms/step - loss: 0.0237 - accuracy: 0.9937\n",
      "Epoch 13/20\n",
      "123/123 [==============================] - 29s 232ms/step - loss: 0.0479 - accuracy: 0.9875\n",
      "Epoch 14/20\n",
      "123/123 [==============================] - 30s 246ms/step - loss: 0.0562 - accuracy: 0.9866\n",
      "Epoch 15/20\n",
      "123/123 [==============================] - 29s 235ms/step - loss: 0.0226 - accuracy: 0.9923\n",
      "Epoch 16/20\n",
      "123/123 [==============================] - 29s 238ms/step - loss: 0.0151 - accuracy: 0.9948\n",
      "Epoch 17/20\n",
      "123/123 [==============================] - 29s 238ms/step - loss: 0.0165 - accuracy: 0.9955\n",
      "Epoch 18/20\n",
      "123/123 [==============================] - 28s 229ms/step - loss: 0.0112 - accuracy: 0.9967\n",
      "Epoch 19/20\n",
      "123/123 [==============================] - 28s 228ms/step - loss: 0.0115 - accuracy: 0.9960\n",
      "Epoch 20/20\n",
      "123/123 [==============================] - 29s 236ms/step - loss: 0.0281 - accuracy: 0.9930\n"
     ]
    }
   ],
   "source": [
    "data = pickle.load(open('data_{}.pkl'.format(dataset), 'rb'))\n",
    "mod = constructModel()\n",
    "mod.summary()\n",
    "\n",
    "trainMod(mod, data[0], data[2], 20, saveMod=True, modName=dataset)"
   ]
  }
 ],
 "metadata": {
  "kernelspec": {
   "display_name": "Python 3",
   "language": "python",
   "name": "python3"
  },
  "language_info": {
   "codemirror_mode": {
    "name": "ipython",
    "version": 3
   },
   "file_extension": ".py",
   "mimetype": "text/x-python",
   "name": "python",
   "nbconvert_exporter": "python",
   "pygments_lexer": "ipython3",
   "version": "3.8.3"
  }
 },
 "nbformat": 4,
 "nbformat_minor": 4
}
