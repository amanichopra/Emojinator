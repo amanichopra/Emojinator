{
 "cells": [
  {
   "cell_type": "code",
   "execution_count": 1,
   "metadata": {},
   "outputs": [],
   "source": [
    "import os\n",
    "import sys\n",
    "from PIL import Image\n",
    "import numpy as np\n",
    "import tensorflow.keras as keras\n",
    "from sklearn.preprocessing import LabelEncoder\n",
    "from sklearn.model_selection import train_test_split"
   ]
  },
  {
   "cell_type": "code",
   "execution_count": 43,
   "metadata": {},
   "outputs": [],
   "source": [
    "def loadData(path_to_dataset='Data/leapGestRecog'):\n",
    "    x = []\n",
    "    y = []\n",
    "    if path_to_dataset.endswith('leapGestRecog'):\n",
    "        for subject in sorted(os.listdir(path_to_dataset)):\n",
    "            if subject.startswith('.'):\n",
    "                continue\n",
    "            print('processing subject {}'.format(subject))\n",
    "            path_to_gestures = '{}/{}'.format(path_to_dataset, subject)\n",
    "            for gesture in os.listdir(path_to_gestures):\n",
    "                if gesture.startswith('.'):\n",
    "                    continue\n",
    "                path_to_imgs = '{}/{}'.format(path_to_gestures, gesture)\n",
    "                for img in os.listdir(path_to_imgs):\n",
    "                    if img.startswith('.'):\n",
    "                        continue\n",
    "                    im = Image.open('{}/{}'.format(path_to_imgs, img)).convert('L').resize((128, 128)) # read, convert to b&w, resize\n",
    "                    #im = np.stack((np.array(im),)*3, axis=-1)\n",
    "                    x.append(np.array(im))\n",
    "                    y.append(gesture[gesture.index('_')+1:])\n",
    "    elif path_to_dataset.endswith('handGestures'):\n",
    "        for gesture in os.listdir(path_to_dataset):\n",
    "            if gesture.startswith('.'):\n",
    "                continue\n",
    "            path_to_imgs = '{}/{}'.format(path_to_dataset, gesture)\n",
    "            for img in os.listdir(path_to_imgs):\n",
    "                if img.startswith('.'):\n",
    "                        continue\n",
    "                im = Image.open('{}/{}'.format(path_to_imgs, img)).resize((128, 128)) # read, convert to b&w, resize\n",
    "                x.append(np.array(im))\n",
    "                y.append(gesture)\n",
    "    else:\n",
    "        raise Exception('Invalid Dataset!')\n",
    "        \n",
    "    return np.array(x), np.array(y)\n",
    "\n",
    "\n",
    "def preprocessData(x, y):\n",
    "    data = x.reshape(x.shape[0], x.shape[1], x.shape[2], 1)\n",
    "    le = LabelEncoder()\n",
    "    labels = keras.utils.to_categorical(le.fit_transform(y))\n",
    "    xTrain, xTest, yTrain, yTest = train_test_split(data, labels)\n",
    "    return xTrain, xTest, yTrain, yTest, le\n",
    "\n",
    "\n"
   ]
  },
  {
   "cell_type": "code",
   "execution_count": 58,
   "metadata": {},
   "outputs": [],
   "source": [
    "dataset = 'handGestures'"
   ]
  },
  {
   "cell_type": "code",
   "execution_count": 59,
   "metadata": {},
   "outputs": [
    {
     "name": "stdout",
     "output_type": "stream",
     "text": [
      "xTrain Shape: (3932, 128, 128, 1)\n",
      "xTest Shape: (1311, 128, 128, 1)\n",
      "yTrain Shape: (3932, 10)\n",
      "yTest Shape: (1311, 10)\n"
     ]
    }
   ],
   "source": [
    "x, y = loadData('Data/{}'.format(dataset))\n",
    "xTrain, xTest, yTrain, yTest, le = preprocessData(x, y)\n",
    "print('xTrain Shape: {}'.format(xTrain.shape))\n",
    "print('xTest Shape: {}'.format(xTest.shape))\n",
    "print('yTrain Shape: {}'.format(yTrain.shape))\n",
    "print('yTest Shape: {}'.format(yTest.shape))"
   ]
  },
  {
   "cell_type": "code",
   "execution_count": 60,
   "metadata": {},
   "outputs": [],
   "source": [
    "# pickle data to avoid reloading and processing\n",
    "\n",
    "import pickle\n",
    "\n",
    "objs = [xTrain, xTest, yTrain, yTest, le]\n",
    "pickle.dump(objs, open('data_{}.pkl'.format(dataset), 'wb'))"
   ]
  }
 ],
 "metadata": {
  "kernelspec": {
   "display_name": "Python 3",
   "language": "python",
   "name": "python3"
  },
  "language_info": {
   "codemirror_mode": {
    "name": "ipython",
    "version": 3
   },
   "file_extension": ".py",
   "mimetype": "text/x-python",
   "name": "python",
   "nbconvert_exporter": "python",
   "pygments_lexer": "ipython3",
   "version": "3.8.3"
  }
 },
 "nbformat": 4,
 "nbformat_minor": 5
}
